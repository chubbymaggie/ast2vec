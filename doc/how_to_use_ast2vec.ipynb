{
 "cells": [
  {
   "cell_type": "code",
   "execution_count": null,
   "metadata": {
    "collapsed": true
   },
   "outputs": [],
   "source": [
    "# setup logging\n",
    "from ast2vec import setup_logging\n",
    "setup_logging(level=\"DEBUG\")\n",
    "\n",
    "# setup linguist - mandatory to launch first time to build enry.\n",
    "# after this you can specify path to enry file.\n",
    "from ast2vec import install_enry\n",
    "install_enry()\n",
    "\n",
    "# check bblfsh server\n",
    "from ast2vec import ensure_bblfsh_is_running_noexc\n",
    "ensure_bblfsh_is_running_noexc()"
   ]
  },
  {
   "cell_type": "code",
   "execution_count": null,
   "metadata": {
    "collapsed": true
   },
   "outputs": [],
   "source": [
    "# repositories to use\n",
    "py_repos = ['list', 'of', 'repositories', 'from', 'github', 'or', 'local', 'files', 'with', 'repositories']"
   ]
  },
  {
   "cell_type": "code",
   "execution_count": null,
   "metadata": {
    "collapsed": true
   },
   "outputs": [],
   "source": [
    "# repos -> UASTs -> (tokens, co-occurence matrices)\n",
    "from ast2vec.repo2.coocc import Repo2CooccTransformer\n",
    "r2cc = Repo2CooccTransformer()\n",
    "\n",
    "coocc_folder = 'coocc_folder'\n",
    "r2cc.transform(py_repos, output=coocc_folder, num_processes=-1)"
   ]
  },
  {
   "cell_type": "code",
   "execution_count": null,
   "metadata": {
    "collapsed": true,
    "scrolled": true
   },
   "outputs": [],
   "source": [
    "# prepare input to swiwel:\n",
    "# many (tokens, co-occ) -> swivel input format\n",
    "from ast2vec.id_embedding import PreprocessTransformer\n",
    "prep = PreprocessTransformer()\n",
    "\n",
    "input_to_swivel = \"input_to_swivel\"  # folder for swivel shards, etc.\n",
    "df_loc = \"df.asdf\"  # location for document freq\n",
    "prep.transform(X=coocc_folder, output=input_to_swivel, df=df_loc)"
   ]
  },
  {
   "cell_type": "code",
   "execution_count": null,
   "metadata": {
    "collapsed": true,
    "scrolled": true
   },
   "outputs": [],
   "source": [
    "# train swivel model\n",
    "from ast2vec.id_embedding import SwivelTransformer\n",
    "sw = SwivelTransformer()\n",
    "\n",
    "swivel_out = \"swivel_out\"\n",
    "sw.transform(input_base_path=input_to_swivel, output_base_path=swivel_out)"
   ]
  },
  {
   "cell_type": "code",
   "execution_count": null,
   "metadata": {
    "collapsed": true
   },
   "outputs": [],
   "source": [
    "# postrpocessing: \n",
    "# from swivel output extract token embeddings and store them in format that can be used in future\n",
    "from ast2vec.id_embedding import PostprocessTransformer\n",
    "postpr = PostprocessTransformer()\n",
    "\n",
    "id2vec_loc = \"id2vec.asdf\"\n",
    "postpr.transform(swivel_out, id2vec_loc)"
   ]
  }
 ],
 "metadata": {
  "kernelspec": {
   "display_name": "Python 3",
   "language": "python",
   "name": "python3"
  },
  "language_info": {
   "codemirror_mode": {
    "name": "ipython",
    "version": 3.0
   },
   "file_extension": ".py",
   "mimetype": "text/x-python",
   "name": "python",
   "nbconvert_exporter": "python",
   "pygments_lexer": "ipython3",
   "version": "3.5.2"
  }
 },
 "nbformat": 4,
 "nbformat_minor": 0
}